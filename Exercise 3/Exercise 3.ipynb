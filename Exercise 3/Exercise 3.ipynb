{
 "cells": [
  {
   "cell_type": "markdown",
   "metadata": {},
   "source": [
    "# Exercise 3\n"
   ]
  },
  {
   "cell_type": "code",
   "execution_count": 1,
   "metadata": {},
   "outputs": [],
   "source": [
    "# pip install tabulate"
   ]
  },
  {
   "cell_type": "code",
   "execution_count": 2,
   "metadata": {},
   "outputs": [
    {
     "name": "stdout",
     "output_type": "stream",
     "text": [
      "/usr/bin/ffmpeg\r\n"
     ]
    }
   ],
   "source": [
    "# Download latest FFmpeg static build.  \n",
    "exist = !which ffmpeg\n",
    "if not exist:\n",
    "  !curl https://johnvansickle.com/ffmpeg/releases/ffmpeg-release-amd64-static.tar.xz -o ffmpeg.tar.xz \\\n",
    "     && tar -xf ffmpeg.tar.xz && rm ffmpeg.tar.xz\n",
    "  ffmdir = !find . -iname ffmpeg-*-static\n",
    "  path = %env PATH\n",
    "  path = path + ':' + ffmdir[0]\n",
    "  %env PATH $path\n",
    "\n",
    "!which ffmpeg"
   ]
  },
  {
   "cell_type": "code",
   "execution_count": 3,
   "metadata": {},
   "outputs": [],
   "source": [
    "# import some modules\n",
    "import os\n",
    "import subprocess"
   ]
  },
  {
   "cell_type": "markdown",
   "metadata": {},
   "source": [
    "## Examination with ffprobe"
   ]
  },
  {
   "cell_type": "code",
   "execution_count": 4,
   "metadata": {},
   "outputs": [],
   "source": [
    "# load files\n",
    "file_paths = [\n",
    "    \"./Voyage_to_the_Planet_of_Prehistoric_Women.mp4\",\n",
    "    \"./The_Gun_and_the_Pulpit.avi\",\n",
    "    \"./Last_man_on_earth_1964.mov\",\n",
    "    \"./Cosmos_War_of_the_Planets.mp4\",\n",
    "    \"./The_Hill_Gang_Rides_Again.mp4\"\n",
    "]"
   ]
  },
  {
   "cell_type": "code",
   "execution_count": 5,
   "metadata": {},
   "outputs": [
    {
     "data": {
      "text/html": [
       "<video src=\"./Voyage_to_the_Planet_of_Prehistoric_Women.mp4\" controls  >\n",
       "      Your browser does not support the <code>video</code> element.\n",
       "    </video>"
      ],
      "text/plain": [
       "<IPython.core.display.Video object>"
      ]
     },
     "metadata": {},
     "output_type": "display_data"
    },
    {
     "data": {
      "text/html": [
       "<video src=\"./The_Gun_and_the_Pulpit.avi\" controls  >\n",
       "      Your browser does not support the <code>video</code> element.\n",
       "    </video>"
      ],
      "text/plain": [
       "<IPython.core.display.Video object>"
      ]
     },
     "metadata": {},
     "output_type": "display_data"
    },
    {
     "data": {
      "text/html": [
       "<video src=\"./Last_man_on_earth_1964.mov\" controls  >\n",
       "      Your browser does not support the <code>video</code> element.\n",
       "    </video>"
      ],
      "text/plain": [
       "<IPython.core.display.Video object>"
      ]
     },
     "metadata": {},
     "output_type": "display_data"
    },
    {
     "data": {
      "text/html": [
       "<video src=\"./Cosmos_War_of_the_Planets.mp4\" controls  >\n",
       "      Your browser does not support the <code>video</code> element.\n",
       "    </video>"
      ],
      "text/plain": [
       "<IPython.core.display.Video object>"
      ]
     },
     "metadata": {},
     "output_type": "display_data"
    },
    {
     "data": {
      "text/html": [
       "<video src=\"./The_Hill_Gang_Rides_Again.mp4\" controls  >\n",
       "      Your browser does not support the <code>video</code> element.\n",
       "    </video>"
      ],
      "text/plain": [
       "<IPython.core.display.Video object>"
      ]
     },
     "metadata": {},
     "output_type": "display_data"
    }
   ],
   "source": [
    "# display the videos\n",
    "from IPython.display import Video\n",
    "\n",
    "for file_path in file_paths: \n",
    "    display(Video(f\"{file_path}\"))"
   ]
  },
  {
   "cell_type": "code",
   "execution_count": 6,
   "metadata": {},
   "outputs": [
    {
     "name": "stdout",
     "output_type": "stream",
     "text": [
      "File: Voyage_to_the_Planet_of_Prehistoric_Women.mp4\n",
      "video_format: mp4\n",
      "Video info:\n",
      "  codec_name: hevc\n",
      "  width: 640\n",
      "  height: 360\n",
      "  display_aspect_ratio: 16:9\n",
      "  r_frame_rate: 30.0\n",
      "  bit_rate: 7.7\n",
      "Audio info:\n",
      "  codec_name: mp3\n",
      "  channel_layout: stereo\n",
      "  bit_rate: 40.0\n",
      "\n",
      " ------------------------------------------------------------\n",
      "File: The_Gun_and_the_Pulpit.avi\n",
      "video_format: avi\n",
      "Video info:\n",
      "  codec_name: rawvideo\n",
      "  width: 720\n",
      "  height: 404\n",
      "  display_aspect_ratio: 0:1\n",
      "  r_frame_rate: 25.0\n",
      "  bit_rate: 83.4\n",
      "Audio info:\n",
      "  codec_name: pcm_s16le\n",
      "  channel_layout: unknown\n",
      "  bit_rate: 192.0\n",
      "\n",
      " ------------------------------------------------------------\n",
      "File: Last_man_on_earth_1964.mov\n",
      "video_format: mov\n",
      "Video info:\n",
      "  codec_name: prores\n",
      "  width: 640\n",
      "  height: 360\n",
      "  display_aspect_ratio: 16:9\n",
      "  r_frame_rate: 24.0\n",
      "  bit_rate: 8.9\n",
      "Audio info:\n",
      "  codec_name: pcm_s16le\n",
      "  channel_layout: stereo\n",
      "  bit_rate: 192.0\n",
      "\n",
      " ------------------------------------------------------------\n",
      "File: Cosmos_War_of_the_Planets.mp4\n",
      "video_format: mp4\n",
      "Video info:\n",
      "  codec_name: h264\n",
      "  width: 628\n",
      "  height: 354\n",
      "  display_aspect_ratio: 314:177\n",
      "  r_frame_rate: 30.0\n",
      "  bit_rate: 2.9\n",
      "Audio info:\n",
      "  codec_name: aac\n",
      "  channel_layout: stereo\n",
      "  bit_rate: 39.6\n",
      "\n",
      " ------------------------------------------------------------\n",
      "File: The_Hill_Gang_Rides_Again.mp4\n",
      "video_format: mp4\n",
      "Video info:\n",
      "  codec_name: h264\n",
      "  width: 640\n",
      "  height: 360\n",
      "  display_aspect_ratio: 16:9\n",
      "  r_frame_rate: 25.0\n",
      "  bit_rate: 7.2\n",
      "Audio info:\n",
      "  codec_name: aac\n",
      "  channel_layout: stereo\n",
      "  bit_rate: 31.7\n",
      "\n",
      " ------------------------------------------------------------\n"
     ]
    }
   ],
   "source": [
    "# ffprobe examination code\n",
    "def run_ffprobe(file_path):\n",
    "    # commands to probe video\n",
    "    cmd_video = [\n",
    "        'ffprobe','-v', 'error',\n",
    "        '-hide_banner','-select_streams', 'v',\n",
    "        '-print_format', 'default', '-show_entries',\n",
    "        'stream=codec_name, width, height, display_aspect_ratio, r_frame_rate, bit_rate',\n",
    "        file_path\n",
    "    ]\n",
    "    \n",
    "    # commands to probe audio\n",
    "    cmd_audio = [\n",
    "        'ffprobe','-v', 'error',\n",
    "        '-hide_banner','-select_streams', 'a',\n",
    "        '-print_format', 'default', '-show_entries',\n",
    "        'stream=codec_name, bit_rate, channel_layout',\n",
    "        file_path\n",
    "    ]\n",
    "    \n",
    "    try:\n",
    "        # extract video format from file_path\n",
    "        video_format = file_path.split('.')[-1]\n",
    "        \n",
    "        # use subprocess\n",
    "        result_video = subprocess.check_output(cmd_video, universal_newlines=True)\n",
    "        result_audio = subprocess.check_output(cmd_audio, universal_newlines=True)\n",
    "        \n",
    "        # store video information\n",
    "        video_info = {}\n",
    "        for line in result_video.split('\\n'):\n",
    "            if '=' not in line:\n",
    "                continue\n",
    "            key, value = line.split('=')\n",
    "            key = key.strip()\n",
    "            value = value.strip()\n",
    "            \n",
    "            # Convert framerate to float\n",
    "            if key == 'r_frame_rate':\n",
    "                num, denom = value.split('/')\n",
    "                value = float(num) / float(denom)\n",
    "                value = format(value,'.1f')\n",
    "                \n",
    "            # convert video bitrate to Mb/s\n",
    "            video_info[key] = value\n",
    "            if key == 'bit_rate':\n",
    "                bitrate = float(value) /1048576\n",
    "                video_info[key] = format(float(bitrate), '.1f')\n",
    "\n",
    "        # store audio information\n",
    "        audio_info = {}\n",
    "        for line in result_audio.split('\\n'):\n",
    "            if '=' not in line:\n",
    "                continue\n",
    "            key, value = line.split('=')\n",
    "            audio_info[key.strip()] = value.strip()\n",
    "            \n",
    "            # convert audio bitrate to Kb/s\n",
    "            if key == 'bit_rate':\n",
    "                bitrate = float(value) / 8000  # Convert to kb/s\n",
    "                audio_info[key] = format(float(bitrate), '.1f')\n",
    "\n",
    "        # this will later be stored in file info dictionary\n",
    "        return {\n",
    "            'video_format': video_format,\n",
    "            'video_info': video_info,\n",
    "            'audio_info': audio_info\n",
    "        }\n",
    "        \n",
    "    # error Handling\n",
    "    except subprocess.CalledProcessError as e:\n",
    "        print(f\"Failed to read {file_path}\")\n",
    "        return None\n",
    "\n",
    "# use ffprobe function on the audio files\n",
    "file_info = {}\n",
    "for file_path in file_paths:\n",
    "    result = run_ffprobe(file_path)\n",
    "    if result:\n",
    "        file_info[os.path.basename(file_path)] = result\n",
    "\n",
    "# Print information of the files\n",
    "for file_name, info in file_info.items():\n",
    "    print(f\"File: {file_name}\")\n",
    "    print(f'video_format: {info[\"video_format\"]}')\n",
    "    print(\"Video info:\")\n",
    "    for key, value in info['video_info'].items():\n",
    "        print(f\"  {key}: {value}\")\n",
    "    print(\"Audio info:\")\n",
    "    for key, value in info['audio_info'].items():\n",
    "        print(f\"  {key}: {value}\")\n",
    "    print('\\n', '-' * 60)\n"
   ]
  },
  {
   "cell_type": "markdown",
   "metadata": {},
   "source": [
    "## Text reports"
   ]
  },
  {
   "cell_type": "markdown",
   "metadata": {},
   "source": [
    "### Format requirements:\n",
    "- Video format (container): mp4 \n",
    "- Video codec: h.264 \n",
    "- Audio codec: aac \n",
    "- Frame rate: 25 FPS \n",
    "- Aspect ratio: 16:9  \n",
    "- Resolution: 640 x 360 \n",
    "- Video bit rate: 2 – 5 Mb/s \n",
    "- Audio bit rate: up to 256 kb/s \n",
    "- Audio channels: stereo "
   ]
  },
  {
   "cell_type": "code",
   "execution_count": 7,
   "metadata": {},
   "outputs": [
    {
     "name": "stdout",
     "output_type": "stream",
     "text": [
      "File: Voyage_to_the_Planet_of_Prehistoric_Women.mp4\n",
      "Comparison Result:\n",
      "  video_codec: hevc || requirement: h264\n",
      "  audio_codec: mp3 || requirement: aac\n",
      "  frame_rate: 30.0 || requirement: 25.0\n",
      "  video_bit_rate: 7.7 || requirement: 2 - 5 Mb/s\n",
      "\n",
      " ------------------------------------------------------------\n",
      "File: The_Gun_and_the_Pulpit.avi\n",
      "Comparison Result:\n",
      "  container: avi || requirement: mp4\n",
      "  video_codec: rawvideo || requirement: h264\n",
      "  audio_codec: pcm_s16le || requirement: aac\n",
      "  aspect_ratio: 0:1 || requirement: 16:9\n",
      "  resolution: (720, 404) || requirement: (640, 360)\n",
      "  video_bit_rate: 83.4 || requirement: 2 - 5 Mb/s\n",
      "  audio_channels: unknown || requirement: stereo\n",
      "\n",
      " ------------------------------------------------------------\n",
      "File: Last_man_on_earth_1964.mov\n",
      "Comparison Result:\n",
      "  container: mov || requirement: mp4\n",
      "  video_codec: prores || requirement: h264\n",
      "  audio_codec: pcm_s16le || requirement: aac\n",
      "  frame_rate: 24.0 || requirement: 25.0\n",
      "  video_bit_rate: 8.9 || requirement: 2 - 5 Mb/s\n",
      "\n",
      " ------------------------------------------------------------\n",
      "File: Cosmos_War_of_the_Planets.mp4\n",
      "Comparison Result:\n",
      "  frame_rate: 30.0 || requirement: 25.0\n",
      "  aspect_ratio: 314:177 || requirement: 16:9\n",
      "  resolution: (628, 354) || requirement: (640, 360)\n",
      "\n",
      " ------------------------------------------------------------\n",
      "File: The_Hill_Gang_Rides_Again.mp4\n",
      "Comparison Result:\n",
      "  video_bit_rate: 7.2 || requirement: 2 - 5 Mb/s\n",
      "\n",
      " ------------------------------------------------------------\n"
     ]
    }
   ],
   "source": [
    "# function to compare formats\n",
    "def compare_formats(video_format, video_info, audio_info):\n",
    "    \n",
    "    # the expected format criteria\n",
    "    expected_format = {\n",
    "        \"container\": \"mp4\",\n",
    "        \"video_codec\": \"h264\",\n",
    "        \"audio_codec\": \"aac\",\n",
    "        \"frame_rate\": 25.0,\n",
    "        \"aspect_ratio\": \"16:9\",\n",
    "        \"resolution\": (640, 360),\n",
    "        \"video_bit_rate\": (2, 5),  # 2 - 5 Mb/s\n",
    "        \"audio_bit_rate\": 256,  # up to 256 kb/s\n",
    "        \"audio_channels\": \"stereo\"\n",
    "    }\n",
    "\n",
    "    # dictionary to store the comparison results\n",
    "    comparison_result = {}\n",
    "\n",
    "    # compare video format\n",
    "    if video_format != expected_format[\"container\"]:\n",
    "        comparison_result[\"container\"] = (video_format, expected_format[\"container\"])\n",
    "        \n",
    "    # compare video codec\n",
    "    if video_info[\"codec_name\"] != expected_format[\"video_codec\"]:\n",
    "        comparison_result[\"video_codec\"] = (video_info[\"codec_name\"], expected_format[\"video_codec\"])\n",
    "\n",
    "    # compare audio codec\n",
    "    if audio_info[\"codec_name\"] != expected_format[\"audio_codec\"]:\n",
    "        comparison_result[\"audio_codec\"] = (audio_info[\"codec_name\"], expected_format[\"audio_codec\"])\n",
    "\n",
    "    # compare frame rate\n",
    "    if float(video_info[\"r_frame_rate\"]) != float(expected_format[\"frame_rate\"]):\n",
    "        comparison_result[\"frame_rate\"] = (video_info[\"r_frame_rate\"], expected_format[\"frame_rate\"])\n",
    "\n",
    "    # compare aspect ratio\n",
    "    if video_info[\"display_aspect_ratio\"] != expected_format[\"aspect_ratio\"]:\n",
    "        comparison_result[\"aspect_ratio\"] = (video_info[\"display_aspect_ratio\"], expected_format[\"aspect_ratio\"])\n",
    "\n",
    "    # compare resolution\n",
    "    if (int(video_info[\"width\"]), int(video_info[\"height\"])) != expected_format[\"resolution\"]:\n",
    "        comparison_result[\"resolution\"] = ((int(video_info[\"width\"]), int(video_info[\"height\"])), expected_format[\"resolution\"])\n",
    "\n",
    "    # compare video bit rate\n",
    "    if float(video_info[\"bit_rate\"]) < expected_format[\"video_bit_rate\"][0] or float(video_info[\"bit_rate\"]) > expected_format[\"video_bit_rate\"][1]:\n",
    "        comparison_result[\"video_bit_rate\"] = (float(video_info[\"bit_rate\"]), f\"{expected_format['video_bit_rate'][0]} - {expected_format['video_bit_rate'][1]} Mb/s\")\n",
    "\n",
    "    # compare audio bit rate\n",
    "    if float(audio_info[\"bit_rate\"]) > expected_format[\"audio_bit_rate\"]:\n",
    "        comparison_result[\"audio_bit_rate\"] = (float(audio_info[\"bit_rate\"]), f\"up to {expected_format['audio_bit_rate']} kb/s\")\n",
    "\n",
    "    # compare audio channels\n",
    "    if audio_info[\"channel_layout\"] != expected_format[\"audio_channels\"]:\n",
    "        comparison_result[\"audio_channels\"] = (audio_info[\"channel_layout\"], expected_format[\"audio_channels\"])\n",
    "\n",
    "    \n",
    "    return comparison_result\n",
    "\n",
    "# usage on the file paths\n",
    "for file_name, info in file_info.items():\n",
    "    video_format = info[\"video_format\"]\n",
    "    video_info = info[\"video_info\"]\n",
    "    audio_info = info[\"audio_info\"]\n",
    "    comparison_result = compare_formats(video_format, video_info, audio_info)\n",
    "    print(f\"File: {file_name}\")\n",
    "    print(\"Comparison Result:\")\n",
    "    for key, value in comparison_result.items():\n",
    "        print(f\"  {key}: {value[0]} || requirement: {value[1]}\")\n",
    "    print('\\n', '-' * 60)\n"
   ]
  },
  {
   "cell_type": "code",
   "execution_count": 8,
   "metadata": {},
   "outputs": [
    {
     "name": "stdout",
     "output_type": "stream",
     "text": [
      "Report generated: report.txt\n"
     ]
    }
   ],
   "source": [
    "# make report txt\n",
    "def generate_report(file_path, video_file_path, comparison_result):\n",
    "    with open(file_path, 'a') as f:\n",
    "        # create report format\n",
    "        f.write(f\"Comparison Result for {video_file_path}:\\n\")\n",
    "        # iterate through the comparison results and print them in the txt file\n",
    "        for key, value in comparison_result.items():\n",
    "            f.write(f\"  {key}: {value[0]} || requirement: {value[1]}\\n\")\n",
    "        f.write(\"-\" * 60 + \"\\n\")  \n",
    "\n",
    "# Create or edit the report.txt\n",
    "report_file_name = \"report.txt\"\n",
    "with open(report_file_name, 'w') as f:\n",
    "    f.write(\"Comparison Results\\n\")\n",
    "    f.write(\"=\" * 60 + \"\\n\")\n",
    "\n",
    "# use generate_report with information from comparison_result\n",
    "for file_name, info in file_info.items():\n",
    "    video_format = info[\"video_format\"]\n",
    "    video_info = info[\"video_info\"]\n",
    "    audio_info = info[\"audio_info\"]\n",
    "    comparison_result = compare_formats(video_format, video_info, audio_info)\n",
    "    generate_report(report_file_name, file_name, comparison_result)\n",
    "\n",
    "print(f\"Report generated: {report_file_name}\")\n"
   ]
  },
  {
   "cell_type": "markdown",
   "metadata": {},
   "source": [
    "## Convert with ffmpeg"
   ]
  },
  {
   "cell_type": "markdown",
   "metadata": {},
   "source": [
    "### Format requirements:\n",
    "- Video format (container): mp4 \n",
    "- Video codec: h.264 \n",
    "- Audio codec: aac \n",
    "- Frame rate: 25 FPS \n",
    "- Aspect ratio: 16:9  \n",
    "- Resolution: 640 x 360 \n",
    "- Video bit rate: 2 – 5 Mb/s \n",
    "- Audio bit rate: up to 256 kb/s \n",
    "- Audio channels: stereo "
   ]
  },
  {
   "cell_type": "code",
   "execution_count": 9,
   "metadata": {},
   "outputs": [
    {
     "name": "stdout",
     "output_type": "stream",
     "text": [
      "Converted ./Voyage_to_the_Planet_of_Prehistoric_Women.mp4 to ./Voyage_to_the_Planet_of_Prehistoric_Women_formatOK.mp4\n",
      "Converted ./The_Gun_and_the_Pulpit.avi to ./The_Gun_and_the_Pulpit_formatOK.mp4\n",
      "Converted ./Last_man_on_earth_1964.mov to ./Last_man_on_earth_1964_formatOK.mp4\n",
      "Converted ./Cosmos_War_of_the_Planets.mp4 to ./Cosmos_War_of_the_Planets_formatOK.mp4\n",
      "Converted ./The_Hill_Gang_Rides_Again.mp4 to ./The_Hill_Gang_Rides_Again_formatOK.mp4\n"
     ]
    }
   ],
   "source": [
    "# formatting the videos with ffmpeg\n",
    "def change_format(file_path):\n",
    "    # file name format for new files\n",
    "    output_file = os.path.splitext(file_path)[0] + \"_formatOK.mp4\"\n",
    "\n",
    "    # FFmpeg command to convert the file\n",
    "    cmd_convert = [\n",
    "        'ffmpeg',\n",
    "        '-i', file_path,\n",
    "        '-c:v', 'libx264', # h264\n",
    "        '-vf', 'scale=640:360',\n",
    "        '-aspect', '16:9',  \n",
    "        '-r', '25',  # framerate\n",
    "        '-b:v', '3000000', # video bitrate\n",
    "        '-c:a', 'aac', # audio codec\n",
    "        '-b:a', '1800000',  # audio bitrate\n",
    "        '-ac', '2', # stereo\n",
    "        output_file  \n",
    "    ]\n",
    "\n",
    "    try:\n",
    "        # use subprocess to execute\n",
    "        subprocess.check_output(cmd_convert, stderr=subprocess.STDOUT, universal_newlines=True)\n",
    "        print(f\"Converted {file_path} to {output_file}\")\n",
    "        \n",
    "    # error Handling\n",
    "    except subprocess.CalledProcessError as e:\n",
    "        print(f\"Failed to convert {file_path}: {e}\")\n",
    "        return None\n",
    "\n",
    "# Convert each file in file_paths (on the top)\n",
    "for file_path in file_paths:\n",
    "    change_format(file_path)\n"
   ]
  },
  {
   "cell_type": "code",
   "execution_count": 10,
   "metadata": {
    "scrolled": true
   },
   "outputs": [
    {
     "name": "stdout",
     "output_type": "stream",
     "text": [
      "File: Voyage_to_the_Planet_of_Prehistoric_Women_formatOK.mp4\n",
      "video_format: mp4\n",
      "Video info:\n",
      "  codec_name: h264\n",
      "  width: 640\n",
      "  height: 360\n",
      "  display_aspect_ratio: 16:9\n",
      "  r_frame_rate: 25.0\n",
      "  bit_rate: 2.7\n",
      "Audio info:\n",
      "  codec_name: aac\n",
      "  channel_layout: stereo\n",
      "  bit_rate: 32.1\n",
      "\n",
      " ------------------------------------------------------------\n",
      "File: The_Gun_and_the_Pulpit_formatOK.mp4\n",
      "video_format: mp4\n",
      "Video info:\n",
      "  codec_name: h264\n",
      "  width: 640\n",
      "  height: 360\n",
      "  display_aspect_ratio: 16:9\n",
      "  r_frame_rate: 25.0\n",
      "  bit_rate: 2.8\n",
      "Audio info:\n",
      "  codec_name: aac\n",
      "  channel_layout: stereo\n",
      "  bit_rate: 33.9\n",
      "\n",
      " ------------------------------------------------------------\n",
      "File: Last_man_on_earth_1964_formatOK.mp4\n",
      "video_format: mp4\n",
      "Video info:\n",
      "  codec_name: h264\n",
      "  width: 640\n",
      "  height: 360\n",
      "  display_aspect_ratio: 16:9\n",
      "  r_frame_rate: 25.0\n",
      "  bit_rate: 2.9\n",
      "Audio info:\n",
      "  codec_name: aac\n",
      "  channel_layout: stereo\n",
      "  bit_rate: 38.2\n",
      "\n",
      " ------------------------------------------------------------\n",
      "File: Cosmos_War_of_the_Planets_formatOK.mp4\n",
      "video_format: mp4\n",
      "Video info:\n",
      "  codec_name: h264\n",
      "  width: 640\n",
      "  height: 360\n",
      "  display_aspect_ratio: 16:9\n",
      "  r_frame_rate: 25.0\n",
      "  bit_rate: 2.8\n",
      "Audio info:\n",
      "  codec_name: aac\n",
      "  channel_layout: stereo\n",
      "  bit_rate: 33.4\n",
      "\n",
      " ------------------------------------------------------------\n",
      "File: The_Hill_Gang_Rides_Again_formatOK.mp4\n",
      "video_format: mp4\n",
      "Video info:\n",
      "  codec_name: h264\n",
      "  width: 640\n",
      "  height: 360\n",
      "  display_aspect_ratio: 16:9\n",
      "  r_frame_rate: 25.0\n",
      "  bit_rate: 2.8\n",
      "Audio info:\n",
      "  codec_name: aac\n",
      "  channel_layout: stereo\n",
      "  bit_rate: 26.2\n",
      "\n",
      " ------------------------------------------------------------\n"
     ]
    }
   ],
   "source": [
    "# load new copnverted files\n",
    "file_paths_new = [\n",
    "    \"./Voyage_to_the_Planet_of_Prehistoric_Women_formatOK.mp4\",\n",
    "    \"./The_Gun_and_the_Pulpit_formatOK.mp4\",\n",
    "    \"./Last_man_on_earth_1964_formatOK.mp4\",\n",
    "    \"./Cosmos_War_of_the_Planets_formatOK.mp4\",\n",
    "    \"./The_Hill_Gang_Rides_Again_formatOK.mp4\"\n",
    "]\n",
    "\n",
    "\n",
    "# use ffprobe function on the audio files\n",
    "file_info = {}\n",
    "for file_path in file_paths_new:\n",
    "    result = run_ffprobe(file_path)\n",
    "    if result:\n",
    "        file_info[os.path.basename(file_path)] = result\n",
    "\n",
    "# Print information of the new files\n",
    "for file_name, info in file_info.items():\n",
    "    print(f\"File: {file_name}\")\n",
    "    print(f'video_format: {info[\"video_format\"]}')\n",
    "    print(\"Video info:\")\n",
    "    for key, value in info['video_info'].items():\n",
    "        print(f\"  {key}: {value}\")\n",
    "    print(\"Audio info:\")\n",
    "    for key, value in info['audio_info'].items():\n",
    "        print(f\"  {key}: {value}\")\n",
    "    print('\\n', '-' * 60)   "
   ]
  },
  {
   "cell_type": "code",
   "execution_count": 11,
   "metadata": {},
   "outputs": [
    {
     "data": {
      "text/html": [
       "<video src=\"./Voyage_to_the_Planet_of_Prehistoric_Women_formatOK.mp4\" controls  >\n",
       "      Your browser does not support the <code>video</code> element.\n",
       "    </video>"
      ],
      "text/plain": [
       "<IPython.core.display.Video object>"
      ]
     },
     "metadata": {},
     "output_type": "display_data"
    },
    {
     "data": {
      "text/html": [
       "<video src=\"./The_Gun_and_the_Pulpit_formatOK.mp4\" controls  >\n",
       "      Your browser does not support the <code>video</code> element.\n",
       "    </video>"
      ],
      "text/plain": [
       "<IPython.core.display.Video object>"
      ]
     },
     "metadata": {},
     "output_type": "display_data"
    },
    {
     "data": {
      "text/html": [
       "<video src=\"./Last_man_on_earth_1964_formatOK.mp4\" controls  >\n",
       "      Your browser does not support the <code>video</code> element.\n",
       "    </video>"
      ],
      "text/plain": [
       "<IPython.core.display.Video object>"
      ]
     },
     "metadata": {},
     "output_type": "display_data"
    },
    {
     "data": {
      "text/html": [
       "<video src=\"./Cosmos_War_of_the_Planets_formatOK.mp4\" controls  >\n",
       "      Your browser does not support the <code>video</code> element.\n",
       "    </video>"
      ],
      "text/plain": [
       "<IPython.core.display.Video object>"
      ]
     },
     "metadata": {},
     "output_type": "display_data"
    },
    {
     "data": {
      "text/html": [
       "<video src=\"./The_Hill_Gang_Rides_Again_formatOK.mp4\" controls  >\n",
       "      Your browser does not support the <code>video</code> element.\n",
       "    </video>"
      ],
      "text/plain": [
       "<IPython.core.display.Video object>"
      ]
     },
     "metadata": {},
     "output_type": "display_data"
    }
   ],
   "source": [
    "# display the formatted videos\n",
    "from IPython.display import Video\n",
    "\n",
    "for file_path in file_paths_new: \n",
    "    display(Video(f\"{file_path}\"))"
   ]
  },
  {
   "cell_type": "code",
   "execution_count": null,
   "metadata": {},
   "outputs": [],
   "source": []
  }
 ],
 "metadata": {
  "kernelspec": {
   "display_name": "Python 3",
   "language": "python",
   "name": "python3"
  },
  "language_info": {
   "codemirror_mode": {
    "name": "ipython",
    "version": 3
   },
   "file_extension": ".py",
   "mimetype": "text/x-python",
   "name": "python",
   "nbconvert_exporter": "python",
   "pygments_lexer": "ipython3",
   "version": "3.7.6"
  }
 },
 "nbformat": 4,
 "nbformat_minor": 4
}
