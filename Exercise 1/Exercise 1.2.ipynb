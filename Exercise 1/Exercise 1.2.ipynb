{
 "cells": [
  {
   "cell_type": "markdown",
   "id": "5747c97f-6450-4d97-be7e-e4aedf354d4d",
   "metadata": {},
   "source": [
    "# Exercise 1 Task 2"
   ]
  },
  {
   "cell_type": "code",
   "execution_count": 1,
   "id": "4e2d502a-50f2-46af-8754-9b43f67914b8",
   "metadata": {},
   "outputs": [
    {
     "data": {
      "text/plain": [
       "'install if necessary'"
      ]
     },
     "execution_count": 1,
     "metadata": {},
     "output_type": "execute_result"
    }
   ],
   "source": [
    "'''install if necessary'''\n",
    "# pip install opencv-python"
   ]
  },
  {
   "cell_type": "markdown",
   "id": "7b9337f2-d146-4f3d-9169-067cdb04bbae",
   "metadata": {},
   "source": [
    "## Code for Traffic Laramie 1"
   ]
  },
  {
   "cell_type": "code",
   "execution_count": 2,
   "id": "6c46e4d4-fb25-4f09-add7-6d5723565f77",
   "metadata": {},
   "outputs": [
    {
     "name": "stdout",
     "output_type": "stream",
     "text": [
      "Total Cars Passed: 6\n",
      "Video length: 177 s\n",
      "Cars Per Minute (carsPM): 2.0\n"
     ]
    }
   ],
   "source": [
    "# import openCV module\n",
    "import cv2\n",
    "import warnings\n",
    "warnings.filterwarnings('ignore')\n",
    "\n",
    "# input video\n",
    "inputVid = cv2.VideoCapture('Traffic_Laramie_1.mp4')\n",
    "\n",
    "# background subtractor method\n",
    "# For this task, I will use MOG2, which prioritizes accuracy over speed.\n",
    "backgroundSub = cv2.createBackgroundSubtractorMOG2()\n",
    "\n",
    "carsPass = 0\n",
    "\n",
    "while inputVid.isOpened():\n",
    "    ret, frame = inputVid.read()\n",
    "    \n",
    "    # if statement to close window once video ends\n",
    "    if not ret:\n",
    "        break\n",
    "        \n",
    "    # apply background substraction\n",
    "    forgMask = backgroundSub.apply(frame)\n",
    "    \n",
    "    conts, _ = cv2.findContours(forgMask, cv2.RETR_LIST, cv2.CHAIN_APPROX_SIMPLE)\n",
    "    \n",
    "    for c in conts: \n",
    "        \n",
    "        # ignore small objects. only detect cars\n",
    "        if cv2.contourArea(c) < 3500:\n",
    "            continue\n",
    "    \n",
    "        # boundaries to detect cars going to city centre\n",
    "        x, y, w, h = cv2.boundingRect(c)\n",
    "        if y > 327 and y < 363 and x > 202 and x < 229:\n",
    "            \n",
    "            # track car direction\n",
    "            carX = int((x + (x+w)) / 2) \n",
    "            # car pass\n",
    "            if carX > 294 and carX < 302:\n",
    "                carsPass += 1\n",
    "                \n",
    "    # display the motion tracking results\n",
    "    if frame.size != 0:\n",
    "        cv2.putText(frame, 'CARS PASSED: {}'.format(carsPass), (20, 70), cv2.FONT_HERSHEY_SIMPLEX, 1.5, (0,225,0), 3)\n",
    "        cv2.putText(frame, '<-- To City Centre <--', (200, 400), cv2.FONT_HERSHEY_SIMPLEX, 1.2, (0,245,245), 2)\n",
    "        cv2.imshow('To City Centre', frame)\n",
    "    \n",
    "    # press esc to close\n",
    "    if cv2.waitKey(1) & 0xFF == ord(chr(27)):\n",
    "        break\n",
    "\n",
    "cv2.destroyAllWindows()\n",
    "inputVid.release()\n",
    "\n",
    "\n",
    "# Calculations for total cars passed and cars passed per minute\n",
    "total_time = 177\n",
    "total_time_minutes = total_time/60\n",
    "# Calculate cars per minute\n",
    "carsPM = carsPass / total_time_minutes\n",
    "\n",
    "\n",
    "print(\"Total Cars Passed:\", carsPass)\n",
    "print(\"Video length:\", total_time, 's')\n",
    "print(\"Cars Per Minute (carsPM): {:.1f}\".format(carsPM))\n"
   ]
  },
  {
   "cell_type": "markdown",
   "id": "f5981956-a9ba-412b-9f02-562ccf435b22",
   "metadata": {},
   "source": [
    "## Code for Traffic Laramie 2"
   ]
  },
  {
   "cell_type": "code",
   "execution_count": 3,
   "id": "1d2b160a-fca4-475c-9bf6-5aa31279e94d",
   "metadata": {},
   "outputs": [
    {
     "name": "stdout",
     "output_type": "stream",
     "text": [
      "Total Cars Passed: 4\n",
      "Video length: 105 s\n",
      "Cars Per Minute (carsPM): 2.3\n"
     ]
    }
   ],
   "source": [
    "# import openCV module\n",
    "import cv2\n",
    "import warnings\n",
    "warnings.filterwarnings('ignore')\n",
    "\n",
    "# input video\n",
    "inputVid = cv2.VideoCapture('Traffic_Laramie_2.mp4')\n",
    "\n",
    "# background subtractor method\n",
    "# For this task, I will use MOG2, which prioritizes accuracy over speed.\n",
    "backgroundSub = cv2.createBackgroundSubtractorMOG2()\n",
    "\n",
    "carsPass = 0\n",
    "\n",
    "while inputVid.isOpened():\n",
    "    ret, frame = inputVid.read()\n",
    "    \n",
    "    # if statement to close window once video ends\n",
    "    if not ret:\n",
    "        break\n",
    "    \n",
    "    # apply background substraction\n",
    "    forgMask = backgroundSub.apply(frame)\n",
    "        \n",
    "    conts, _ = cv2.findContours(forgMask, cv2.RETR_LIST, cv2.CHAIN_APPROX_SIMPLE)\n",
    "    \n",
    "    for c in conts: \n",
    "        \n",
    "        # ignore small objects. only detect cars\n",
    "        if cv2.contourArea(c) < 150:\n",
    "            continue\n",
    "        \n",
    "        # boundaries to detect cars going to city centre\n",
    "        x, y, w, h = cv2.boundingRect(c)\n",
    "        if y > 298 and y < 410 and x < 500:\n",
    "            \n",
    "            # track car direction\n",
    "            carX = int((x + (x+w)) / 2) \n",
    "            # cars pass\n",
    "            if carX > 271 and carX < 281:\n",
    "                carsPass += 1\n",
    "                \n",
    "    # display the motion tracking results\n",
    "    if frame.size != 0:\n",
    "        cv2.putText(frame, 'CARS PASSED: {}'.format(carsPass), (20, 70), cv2.FONT_HERSHEY_SIMPLEX, 1.5, (0,225,0), 3)\n",
    "        cv2.putText(frame, '<-- To City Centre <--', (200, 400), cv2.FONT_HERSHEY_SIMPLEX, 1.2, (0,245,245), 2)\n",
    "        cv2.imshow('To City Centre', frame)\n",
    "    \n",
    "    \n",
    "    # press esc to close\n",
    "    if cv2.waitKey(1) & 0xFF == ord(chr(27)):\n",
    "        break\n",
    "\n",
    "cv2.destroyAllWindows()\n",
    "inputVid.release()\n",
    "\n",
    "\n",
    "# Calculations for total cars passed and cars passed per minute\n",
    "total_time = 105\n",
    "total_time_minutes = total_time/60\n",
    "# Calculate cars per minute\n",
    "carsPM = carsPass / total_time_minutes\n",
    "\n",
    "\n",
    "print(\"Total Cars Passed:\", carsPass)\n",
    "print(\"Video length:\", total_time, 's')\n",
    "print(\"Cars Per Minute (carsPM): {:.1f}\".format(carsPM))\n"
   ]
  },
  {
   "cell_type": "code",
   "execution_count": null,
   "id": "50791dce-2c53-4cdf-bbdc-82dddfda0bc3",
   "metadata": {},
   "outputs": [],
   "source": []
  }
 ],
 "metadata": {
  "kernelspec": {
   "display_name": "Python 3 (ipykernel)",
   "language": "python",
   "name": "python3"
  },
  "language_info": {
   "codemirror_mode": {
    "name": "ipython",
    "version": 3
   },
   "file_extension": ".py",
   "mimetype": "text/x-python",
   "name": "python",
   "nbconvert_exporter": "python",
   "pygments_lexer": "ipython3",
   "version": "3.9.13"
  }
 },
 "nbformat": 4,
 "nbformat_minor": 5
}
