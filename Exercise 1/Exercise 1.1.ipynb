{
 "cells": [
  {
   "cell_type": "markdown",
   "id": "014d7205-888a-4587-9af0-2d0f9a67a989",
   "metadata": {},
   "source": [
    "# Exercise 1 Task 1"
   ]
  },
  {
   "cell_type": "code",
   "execution_count": 1,
   "id": "1609084b-4c29-4887-84d6-e8b37547a022",
   "metadata": {},
   "outputs": [
    {
     "data": {
      "text/plain": [
       "'install if necessary'"
      ]
     },
     "execution_count": 1,
     "metadata": {},
     "output_type": "execute_result"
    }
   ],
   "source": [
    "'''install if necessary'''\n",
    "# pip install opencv-python"
   ]
  },
  {
   "cell_type": "code",
   "execution_count": 2,
   "id": "283110bd-019a-4ea9-8e79-757c25827d4a",
   "metadata": {},
   "outputs": [],
   "source": [
    "# import openCV module\n",
    "import cv2\n",
    "import warnings\n",
    "warnings.filterwarnings('ignore')\n",
    "\n",
    "# input video\n",
    "inputVid = cv2.VideoCapture('Traffic_Laramie_1.mp4')\n",
    "\n",
    "# background subtractor method\n",
    "# KNN is faster than MOG2, so I'll choose this for this task. \n",
    "backgroundSub = cv2.createBackgroundSubtractorKNN()\n",
    "\n",
    "while inputVid.isOpened():\n",
    "    ret, frame = inputVid.read()\n",
    "    \n",
    "    # if statement to close window\n",
    "    if not ret:\n",
    "        break\n",
    "        \n",
    "    # apply background substraction method\n",
    "    forgMask = backgroundSub.apply(frame)\n",
    "    \n",
    "    # draw main street line\n",
    "    cv2.line(frame,(0,300), (1500, 300), (0,0,255),2, cv2.LINE_AA)\n",
    "    \n",
    "    conts, _ = cv2.findContours(forgMask, cv2.RETR_LIST, cv2.CHAIN_APPROX_SIMPLE)\n",
    "    \n",
    "    for c in conts: \n",
    "        \n",
    "        # ignore small objects. only detect cars\n",
    "        if cv2.contourArea(c) < 3500:\n",
    "            continue\n",
    "        \n",
    "        # detects the cars in this area of the screen.\n",
    "        x, y, w, h = cv2.boundingRect(c)\n",
    "        if y > 300 and x > 0 and x < 1040:\n",
    "            \n",
    "            # shapes around the moving cars\n",
    "            cv2.rectangle(frame,(x,y), (x+w, y+h), (0,255,0),2)\n",
    "            \n",
    "    # display the motion tracking results\n",
    "    cv2.putText(frame, 'MAIN STREET', (100,280), cv2.FONT_HERSHEY_SIMPLEX, 1.5, (0,0,255), 3)\n",
    "    cv2.imshow('Motion Detection', frame)\n",
    "    \n",
    "    # press esc to close\n",
    "    if cv2.waitKey(1) & 0xFF == ord(chr(27)):\n",
    "        break\n",
    "\n",
    "cv2.destroyAllWindows()\n",
    "inputVid.release()"
   ]
  },
  {
   "cell_type": "code",
   "execution_count": null,
   "id": "9cac49cf-b3de-4d88-a1b4-4a856374e62d",
   "metadata": {},
   "outputs": [],
   "source": []
  }
 ],
 "metadata": {
  "kernelspec": {
   "display_name": "Python 3 (ipykernel)",
   "language": "python",
   "name": "python3"
  },
  "language_info": {
   "codemirror_mode": {
    "name": "ipython",
    "version": 3
   },
   "file_extension": ".py",
   "mimetype": "text/x-python",
   "name": "python",
   "nbconvert_exporter": "python",
   "pygments_lexer": "ipython3",
   "version": "3.9.13"
  }
 },
 "nbformat": 4,
 "nbformat_minor": 5
}
